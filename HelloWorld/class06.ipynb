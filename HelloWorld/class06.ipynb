{
 "cells": [
  {
   "cell_type": "markdown",
   "metadata": {},
   "source": [
    "### Python Control Flow and Typing Guide\n",
    "This guide provides an overview of Python's control flow structures including if, if-else, if-elif-else, and nested if-else-elif statements. Additionally, it covers the use of Python's static type variables, the Union and Optional types from the typing module, the zip function with lists, and sorting a list of tuples based on the second tuple index."
   ]
  },
  {
   "cell_type": "markdown",
   "metadata": {},
   "source": [
    "## Table of Contents\n",
    "1. If Statement\n",
    "2. If-Else Statement\n",
    "3. If-Elif-Else Statement\n",
    "4. Nested If-Else-Elif\n",
    "5. Static Type Variables\n",
    "6. Union and Optional Types\n",
    "7. Zip Function with Lists\n",
    "8. Sorting a List of Tuples"
   ]
  },
  {
   "cell_type": "markdown",
   "metadata": {},
   "source": [
    "#### If Statement"
   ]
  },
  {
   "cell_type": "code",
   "execution_count": 1,
   "metadata": {},
   "outputs": [
    {
     "name": "stdout",
     "output_type": "stream",
     "text": [
      "x is greater than 5\n"
     ]
    }
   ],
   "source": [
    "x: int = 10\n",
    "if x > 5:\n",
    "    print(\"x is greater than 5\")"
   ]
  },
  {
   "cell_type": "markdown",
   "metadata": {},
   "source": [
    "#### If-Else Statement"
   ]
  },
  {
   "cell_type": "code",
   "execution_count": 2,
   "metadata": {},
   "outputs": [
    {
     "name": "stdout",
     "output_type": "stream",
     "text": [
      "x is not greater than 5\n"
     ]
    }
   ],
   "source": [
    "x: int = 4\n",
    "if x > 5:\n",
    "    print(\"x is greater than 5\")\n",
    "else:\n",
    "    print(\"x is not greater than 5\")"
   ]
  },
  {
   "cell_type": "markdown",
   "metadata": {},
   "source": [
    "#### If-Elif-Else Statement"
   ]
  },
  {
   "cell_type": "code",
   "execution_count": 3,
   "metadata": {},
   "outputs": [
    {
     "name": "stdout",
     "output_type": "stream",
     "text": [
      "x is equal to 5\n"
     ]
    }
   ],
   "source": [
    "x: int = 5\n",
    "if x > 5:\n",
    "    print(\"x is greater than 5\")\n",
    "elif x == 5:\n",
    "    print(\"x is equal to 5\")\n",
    "else:\n",
    "    print(\"x is less than 5\")"
   ]
  },
  {
   "cell_type": "markdown",
   "metadata": {},
   "source": [
    "#### Nested If-Else-Elif"
   ]
  },
  {
   "cell_type": "code",
   "execution_count": 4,
   "metadata": {},
   "outputs": [
    {
     "name": "stdout",
     "output_type": "stream",
     "text": [
      "x is greater than 5 but y is not\n"
     ]
    }
   ],
   "source": [
    "x: int = 10\n",
    "y: int = 5\n",
    "if x > 5:\n",
    "    if y > 5:\n",
    "        print(\"x and y are both greater than 5\")\n",
    "    else:\n",
    "        print(\"x is greater than 5 but y is not\")\n",
    "elif x == 5:\n",
    "    print(\"x is equal to 5\")\n",
    "else:\n",
    "    print(\"x is less than 5\")"
   ]
  },
  {
   "cell_type": "markdown",
   "metadata": {},
   "source": [
    "#### Static Type Variables\n",
    "In Python 3.6 and later, you can use static type annotations to indicate the expected type of a variable."
   ]
  },
  {
   "cell_type": "code",
   "execution_count": 5,
   "metadata": {},
   "outputs": [
    {
     "data": {
      "text/plain": [
       "(10, 'Hello', 3.14)"
      ]
     },
     "execution_count": 5,
     "metadata": {},
     "output_type": "execute_result"
    }
   ],
   "source": [
    "x: int = 10\n",
    "y: str = \"Hello\"\n",
    "z: float = 3.14\n",
    "x,y,z"
   ]
  },
  {
   "cell_type": "markdown",
   "metadata": {},
   "source": [
    "#### Union and Optional Types\n",
    "Union allows a variable to be one of several types. Optional is a shorthand for Union[T, None]."
   ]
  },
  {
   "cell_type": "code",
   "execution_count": 6,
   "metadata": {},
   "outputs": [
    {
     "name": "stdout",
     "output_type": "stream",
     "text": [
      "Hello, Guest!\n",
      "Hello, John!\n"
     ]
    }
   ],
   "source": [
    "from typing import Union, Optional\n",
    "\n",
    "def greet(name: Optional[str] = None) -> str:\n",
    "    if name is None:\n",
    "        return \"Hello, Guest!\"\n",
    "    else:\n",
    "        return f\"Hello, {name}!\"\n",
    "\n",
    "age: Union[int, str] = \"Twenty\"\n",
    "print(greet())\n",
    "print(greet(\"John\"))"
   ]
  },
  {
   "cell_type": "markdown",
   "metadata": {},
   "source": [
    "#### Zip Function with Lists\n",
    "The zip function is used to combine two or more iterables."
   ]
  },
  {
   "cell_type": "code",
   "execution_count": 7,
   "metadata": {},
   "outputs": [
    {
     "name": "stdout",
     "output_type": "stream",
     "text": [
      "Alice is 25 years old\n",
      "Bob is 30 years old\n",
      "Charlie is 35 years old\n"
     ]
    }
   ],
   "source": [
    "names: list[str] = [\"Alice\", \"Bob\", \"Charlie\"]\n",
    "ages: list[int] = [25, 30, 35]\n",
    "\n",
    "zipped = zip(names, ages)\n",
    "for name, age in zipped:\n",
    "    print(f\"{name} is {age} years old\")"
   ]
  },
  {
   "cell_type": "markdown",
   "metadata": {},
   "source": [
    "#### Sorting a List of Tuples\n",
    "You can sort a list of tuples based on the second tuple index using the sorted function."
   ]
  },
  {
   "cell_type": "code",
   "execution_count": 8,
   "metadata": {},
   "outputs": [
    {
     "name": "stdout",
     "output_type": "stream",
     "text": [
      "[('Charlie', 20), ('Alice', 25), ('Bob', 30)]\n"
     ]
    }
   ],
   "source": [
    "tuples: list[tuple[str, int]] = [(\"Alice\", 25), (\"Bob\", 30), (\"Charlie\", 20)]\n",
    "sorted_tuples = sorted(tuples, key=lambda x: x[1])\n",
    "print(sorted_tuples)  # Output: [('Charlie', 20), ('Alice', 25), ('Bob', 30)]"
   ]
  }
 ],
 "metadata": {
  "kernelspec": {
   "display_name": "Python 3",
   "language": "python",
   "name": "python3"
  },
  "language_info": {
   "codemirror_mode": {
    "name": "ipython",
    "version": 3
   },
   "file_extension": ".py",
   "mimetype": "text/x-python",
   "name": "python",
   "nbconvert_exporter": "python",
   "pygments_lexer": "ipython3",
   "version": "3.12.3"
  }
 },
 "nbformat": 4,
 "nbformat_minor": 2
}
